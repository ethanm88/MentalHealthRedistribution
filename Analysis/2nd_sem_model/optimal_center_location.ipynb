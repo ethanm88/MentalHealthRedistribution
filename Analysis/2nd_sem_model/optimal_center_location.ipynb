{
 "cells": [
  {
   "cell_type": "code",
   "execution_count": 3,
   "metadata": {},
   "outputs": [],
   "source": [
    "# add any other imports you need here!\n",
    "import numpy as np\n",
    "import pandas as pd\n",
    "import seaborn as sns\n",
    "import matplotlib.pyplot as plt\n",
    "from math import radians, cos, sin, asin, sqrt"
   ]
  },
  {
   "cell_type": "code",
   "execution_count": 4,
   "metadata": {},
   "outputs": [],
   "source": [
    "# use this to compute distance, not Euclidean Distance!\n",
    "def haversine(lat1, lon1, lat2, lon2):\n",
    "\n",
    "      R = 3959.87433 # this is in miles.  For Earth radius in kilometers use 6372.8 km\n",
    "\n",
    "      dLat = radians(lat2 - lat1)\n",
    "      dLon = radians(lon2 - lon1)\n",
    "      lat1 = radians(lat1)\n",
    "      lat2 = radians(lat2)\n",
    "\n",
    "      a = sin(dLat/2)**2 + cos(lat1)*cos(lat2)*sin(dLon/2)**2\n",
    "      c = 2*asin(sqrt(a))\n",
    "\n",
    "      return R * c"
   ]
  },
  {
   "cell_type": "markdown",
   "metadata": {},
   "source": [
    "# Optimal Center Formula\n",
    "- parameters:\n",
    "1. county_lat: a double containing the latidude of the county's population center\n",
    "2. county_long: a double containing the longitude of the county's population center\n",
    "3. potential_center_lat: a double containing the latidude of the potential center\n",
    " potential_center_long: a double containing the longitude of the county's potential center\n",
    " county_classification: an int from 1-9 representing how much mental health need is required (9 = high need, 1 = low need)\n",
    "- return: should return a double representing a score of how optimal this center is\n"
   ]
  },
  {
   "cell_type": "code",
   "execution_count": 5,
   "metadata": {},
   "outputs": [],
   "source": [
    "# params:\n",
    "# county_lat: a double containing the latidude of the county's population center\n",
    "# county_long: a double containing the longitude of the county's population center\n",
    "# potential_center_lat: a double containing the latidude of the potential center\n",
    "# potential_center_long: a double containing the longitude of the county's potential center\n",
    "# county_classification: an int from 1-9 representing how much mental health need is required (9 = high need, 1 = low need)\n",
    "# return: should return a double representing a score of how optimal this center is\n",
    "\n",
    "def optimal_center_formula(county_lat, county_long, potential_center_lat, potential_center_long, county_classification):\n",
    "    distance = haversine(county_lat, county_long, potential_center_lat, potential_center_long)\n",
    "    # perform some mathematical operation with this calculated distance and the county classification"
   ]
  },
  {
   "cell_type": "code",
   "execution_count": null,
   "metadata": {},
   "outputs": [],
   "source": [
    "def test_optimal_center_formula():\n",
    "    # testcase 1: should return a high value, since coordinates are close and need is high\n",
    "    \n",
    "    # testcase 2: should return a low value, since coordinates are far and need is low\n",
    "    \n",
    "    # testcase 3: should return a moderate-low value, since coordinates are far even though need is high\n",
    "    \n",
    "    # testcase 4: should return a moderate value, since coordinates are close and need is moderate-low"
   ]
  }
 ],
 "metadata": {
  "kernelspec": {
   "display_name": "Python 3",
   "language": "python",
   "name": "python3"
  },
  "language_info": {
   "codemirror_mode": {
    "name": "ipython",
    "version": 3
   },
   "file_extension": ".py",
   "mimetype": "text/x-python",
   "name": "python",
   "nbconvert_exporter": "python",
   "pygments_lexer": "ipython3",
   "version": "3.7.4"
  }
 },
 "nbformat": 4,
 "nbformat_minor": 2
}
